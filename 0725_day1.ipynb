{
  "nbformat": 4,
  "nbformat_minor": 0,
  "metadata": {
    "colab": {
      "provenance": [],
      "toc_visible": true,
      "gpuType": "T4",
      "authorship_tag": "ABX9TyMmmCsNFnQxtgKGQ50WPmPu",
      "include_colab_link": true
    },
    "kernelspec": {
      "name": "python3",
      "display_name": "Python 3"
    },
    "language_info": {
      "name": "python"
    },
    "accelerator": "GPU"
  },
  "cells": [
    {
      "cell_type": "markdown",
      "metadata": {
        "id": "view-in-github",
        "colab_type": "text"
      },
      "source": [
        "<a href=\"https://colab.research.google.com/github/asy047/TensorFlowDeepLearning/blob/master/0725_day1.ipynb\" target=\"_parent\"><img src=\"https://colab.research.google.com/assets/colab-badge.svg\" alt=\"Open In Colab\"/></a>"
      ]
    },
    {
      "cell_type": "markdown",
      "source": [
        "# 230725 - Day 1\n"
      ],
      "metadata": {
        "id": "FUuO3KrX8kHG"
      }
    },
    {
      "cell_type": "markdown",
      "source": [
        "# 패션 MNIST 데이터 받아오고 지도학습 해보기"
      ],
      "metadata": {
        "id": "JeTnSZFsywm5"
      }
    },
    {
      "cell_type": "code",
      "execution_count": null,
      "metadata": {
        "id": "6Z79Hvx_8jhC"
      },
      "outputs": [],
      "source": [
        "from tensorflow import keras\n",
        "\n",
        "# 지도 학습 (다중 분류)\n",
        "# x : 입력 데이터 (외부 자극 신호) <-- 패션 아이템 사진\n",
        "# y : 출력 데이터 (0: 구두, 1: 하이힐, 2: 원피스, ... 9: ) <-- 정답\n",
        "\n",
        "(x_train, y_train), (x_test, y_test) = keras.datasets.fashion_mnist.load_data()"
      ]
    },
    {
      "cell_type": "code",
      "source": [
        "# Library (도서관) -> 책(함수, 메서드, 클래스 ...) -> 카테고리화 되어서 정리되어 있음\n",
        "\n",
        "print(type(x_train)) # numpy.narry인 것을 확인\n",
        "\n",
        "print(x_train.shape, y_train.shape)   # 딥러닝 모델을 학습하기 위한 데이터셋 (60000장, 28px 28)\n",
        "print(x_test.shape, y_test.shape)     # 학습된 모델이 제대로 학습되었는지 평가하기 위한 데이터셋 (10000장)"
      ],
      "metadata": {
        "colab": {
          "base_uri": "https://localhost:8080/"
        },
        "id": "zr4ZSrYXiqo6",
        "outputId": "b91907ce-89e0-4fd1-8d60-67b70e761595"
      },
      "execution_count": null,
      "outputs": [
        {
          "output_type": "stream",
          "name": "stdout",
          "text": [
            "<class 'numpy.ndarray'>\n",
            "(60000, 28, 28) (60000,)\n",
            "(10000, 28, 28) (10000,)\n"
          ]
        }
      ]
    },
    {
      "cell_type": "code",
      "source": [
        "import matplotlib.pyplot as plt # alias (~라는 가칭/별명으로 부른다)\n",
        "\n",
        "# cmap -> color map\n",
        "plt.figure()\n",
        "plt.imshow(x_train[500], cmap='gray_r') # image show --> imshow # gray_r = gray reverse\n",
        "plt.show()"
      ],
      "metadata": {
        "colab": {
          "base_uri": "https://localhost:8080/",
          "height": 430
        },
        "id": "tY7ScWCsiwq3",
        "outputId": "6c332ded-cd32-420e-e4fa-476e9029a1f4"
      },
      "execution_count": null,
      "outputs": [
        {
          "output_type": "display_data",
          "data": {
            "text/plain": [
              "<Figure size 640x480 with 1 Axes>"
            ],
            "image/png": "[encoded data removed]"
          },
          "metadata": {}
        }
      ]
    },
    {
      "cell_type": "code",
      "source": [
        "plt.figure()\n",
        "\n",
        "for idx in range(10):\n",
        "  plt.subplot(2, 5, idx + 1) # 여러개를 동시에 그릴 것. 세로 2, 가로 5의 그리드 생성. idx로 인해 하나씩 채워짐\n",
        "  plt.imshow(x_train[idx], cmap='gray_r') # image show --> imshow # gray_r = gray reverse\n",
        "  plt.axis('off')\n",
        "\n",
        "plt.show()"
      ],
      "metadata": {
        "colab": {
          "base_uri": "https://localhost:8080/",
          "height": 324
        },
        "id": "NJ5ehtlvrtG6",
        "outputId": "cbdcb7d2-e909-400f-fb11-c7f0d7fcf7c9"
      },
      "execution_count": null,
      "outputs": [
        {
          "output_type": "display_data",
          "data": {
            "text/plain": [
              "<Figure size 640x480 with 10 Axes>"
            ],
            "image/png": "[encoded data removed]"
          },
          "metadata": {}
        }
      ]
    },
    {
      "cell_type": "code",
      "source": [
        "print(y_train[0:10])    # 0부터 10미만 (0, 1, 2, ..., 9)      # 분류한 정답을 출력 y는 정답이라는 뜻"
      ],
      "metadata": {
        "colab": {
          "base_uri": "https://localhost:8080/"
        },
        "id": "uBWMV_dhtEZi",
        "outputId": "90f0e033-03ad-4cdb-8932-c91e5cf8dc0c"
      },
      "execution_count": null,
      "outputs": [
        {
          "output_type": "stream",
          "name": "stdout",
          "text": [
            "[9 0 0 3 0 2 7 2 5 5]\n"
          ]
        }
      ]
    },
    {
      "cell_type": "code",
      "source": [
        "import numpy as np\n",
        "\n",
        "print(np.unique(y_train, return_counts=True))  # y_train에 저장되어 있는 무수히 많은 데이터들의 단 한 번씩만 출력\n",
        "# return_counts=True  /  이것들이 어떤 구성으로 이루어져 있는지 확인  /  데이터가 골고루 잘 분포하는지 확인하기 위함\n",
        "# 0인 데이터 6000개, 1인 데이터 6000개, 2인 데이터 6000개 ..."
      ],
      "metadata": {
        "colab": {
          "base_uri": "https://localhost:8080/"
        },
        "id": "finoOeB3t3AW",
        "outputId": "fb5c01d4-c0ab-4e4e-bb2e-c8daf93e006c"
      },
      "execution_count": null,
      "outputs": [
        {
          "output_type": "stream",
          "name": "stdout",
          "text": [
            "(array([0, 1, 2, 3, 4, 5, 6, 7, 8, 9], dtype=uint8), array([6000, 6000, 6000, 6000, 6000, 6000, 6000, 6000, 6000, 6000]))\n"
          ]
        }
      ]
    },
    {
      "cell_type": "markdown",
      "source": [
        "x-train 6만장을 2D 이차원의 사진에서 1D Vector로 변환을 시켜야 함.\n",
        "\n",
        "이미지를 펼친 배열 -> 1차원 데이터로 이미지를 슬라이싱 해서 쫙 핌.\n",
        "\n",
        "<br>\n",
        "\n",
        "28 * 28 을 했을때 pixel 값은 784.\n",
        "\n",
        "784개를 받을 수 있는 뉴런을 준비.\n",
        "\n",
        "한 픽셀에 [0 0 0 0 0 0 0 0 0 1] -> 이렇게 나오면 바지=1 이렇게 될 수 있도록!!"
      ],
      "metadata": {
        "id": "e5tSHW7YveIv"
      }
    },
    {
      "cell_type": "markdown",
      "source": [
        "# 데이터 전처리(Pre-processing): 정규화\n",
        "\n",
        "![8비트](data:image/png;base64,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)\n",
        "\n",
        "8비트는 전세계적으로 약속한 이미지 규격.\n",
        "\n",
        "2^8 = 256 가지의 숫자를 포함 가능.\n",
        "\n",
        "따라서 0 ~ 255까지의 숫자를 넣어서 표현 가능.\n",
        "\n",
        "픽셀값: 0 (검정색)\n",
        "\n",
        "픽셀값: 255 (하얀색)\n",
        "\n",
        "RGB값이 이렇게 이루어지는군!!!! 왜 255인가 궁금했는데 궁금증이 해결되었어요!\n",
        "\n",
        "비트 수준이 24 -> 총 8 * 3 = 24 (RGB 라는 뜻)\n",
        "\n",
        "하지만 255는 인식할 수 없어. 0과 1사이에 있는 소수값으로 바꿔야 함.\n",
        "\n",
        "(예를 들어 144가 R의 값이다 -> 144 / 255) 255로 나누면 0이던 1이던 1 이하의 소수값이 나옴.\n",
        "\n",
        "이것이 정규화!"
      ],
      "metadata": {
        "id": "cFYY-GCbxKf4"
      }
    },
    {
      "cell_type": "code",
      "source": [
        "import tensorflow as tf"
      ],
      "metadata": {
        "id": "rbkSF7C8wsZB"
      },
      "execution_count": null,
      "outputs": []
    },
    {
      "cell_type": "code",
      "source": [
        "x_train_scaled = x_train / 255.0    # 실수 값으로 나눠라\n",
        "# 정규화"
      ],
      "metadata": {
        "id": "Z1sVVgdjw-om"
      },
      "execution_count": null,
      "outputs": []
    },
    {
      "cell_type": "code",
      "source": [
        "print(x_train_scaled.shape) # (60000, 28, 28)"
      ],
      "metadata": {
        "id": "FREBycWZzlcx"
      },
      "execution_count": null,
      "outputs": []
    },
    {
      "cell_type": "code",
      "source": [
        "x_train_scaled = x_train_scaled.reshape(60000, 28 * 28)  # Vector로 바꿈. 1차원으로 줄이기\n",
        "print(x_train_scaled.shape)  # (60000, 784)"
      ],
      "metadata": {
        "colab": {
          "base_uri": "https://localhost:8080/"
        },
        "id": "tvh4_t1AzpB_",
        "outputId": "19cf5859-1941-4443-bc63-7e69cd294d59"
      },
      "execution_count": null,
      "outputs": [
        {
          "output_type": "stream",
          "name": "stdout",
          "text": [
            "(60000, 784)\n"
          ]
        }
      ]
    },
    {
      "cell_type": "markdown",
      "source": [
        "# 모델 만들기\n",
        "\n",
        "\n",
        "\n",
        "*   Input Layer\n",
        "*   은닉층\n",
        "*   Output Layer\n",
        "\n",
        "실제로는 모든 x들이 1:多로 하나하나 다 연결되어 있음.\n",
        "\n",
        "이렇게 연결되어 있는 층은 Dense(밀집한) -> 이 함수를 쓰면 컴퓨터가 밀집된 망을 그려줌\n"
      ],
      "metadata": {
        "id": "Dla9UY7B3LvI"
      }
    },
    {
      "cell_type": "code",
      "source": [
        "happycat = keras.layers.Dense(10, activation='softmax',input_shape=(784, )) # 10개의 뉴런으로 구성된 밀집층(Dense) 생성  # activation -> 매개변수가 있는 함수 / softmax -> 확률값을 계산\n",
        "# 0 또는 1을 출력 - 시그모이드 sigmoid (몰라도 됨)\n",
        "# input_shape(784) -> 컴퓨터에게 이게 어떻게 생겨 먹었는지 알려줘야 함."
      ],
      "metadata": {
        "id": "tRNLWYoM3OwI"
      },
      "execution_count": null,
      "outputs": []
    },
    {
      "cell_type": "markdown",
      "source": [
        "한 픽셀에 [0 0 0 0 0 0 0 0 0 1] -> 이렇게 나오면 바지=1 이렇게 될 수 있도록!!\n",
        "\n",
        "... 이걸 확률값으로 계산\n",
        "\n",
        "1이 나올 확률은 [0.01 0.03 0.04 0.02 0 0 0 0.99]\n",
        "\n",
        "출력값을 확률로 만들어서 맵핑하는 함수 => softmax"
      ],
      "metadata": {
        "id": "sBx-XM4I5XaY"
      }
    },
    {
      "cell_type": "code",
      "source": [
        "model = keras.Sequential(happycat)\n",
        "# Sequential(연속된) -> Dense Layer를 연속적으로 쌓아서 Depp learning 모델을 만들겠다.\n",
        "# Dense변수 happycat"
      ],
      "metadata": {
        "id": "n3Kx_gkP6J-e"
      },
      "execution_count": null,
      "outputs": []
    },
    {
      "cell_type": "code",
      "source": [
        "model.summary()  # 모델의 요약본 (하나의 층으로 연결된 간단한 모델 - happycat)\n",
        "\n",
        "# Total params: 7,850 (7850개의 파라미터들로 이루어진 모델이라는 뜻)"
      ],
      "metadata": {
        "colab": {
          "base_uri": "https://localhost:8080/"
        },
        "id": "ftJJeBN66h6J",
        "outputId": "d16e2430-c786-4d4f-8c00-83b354bac0db"
      },
      "execution_count": null,
      "outputs": [
        {
          "output_type": "stream",
          "name": "stdout",
          "text": [
            "Model: \"sequential\"\n",
            "_________________________________________________________________\n",
            " Layer (type)                Output Shape              Param #   \n",
            "=================================================================\n",
            " dense (Dense)               (None, 10)                7850      \n",
            "                                                                 \n",
            "=================================================================\n",
            "Total params: 7,850\n",
            "Trainable params: 7,850\n",
            "Non-trainable params: 0\n",
            "_________________________________________________________________\n"
          ]
        }
      ]
    },
    {
      "cell_type": "code",
      "source": [
        "# 모델 컴파일\n",
        "# 지도 학습 (다중 분류)\n",
        "\n",
        "\n",
        "model.compile(loss='sparse_categorical_crossentropy',\n",
        "              optimizer='adam',\n",
        "              metrics='accuracy')\n",
        "# loss = 'sparse_categorical_crossentropy' -> loss 손실, 오류(에러)를 줄이다. data loss\n",
        "#      문제(x) + 정답(y)\n",
        "#      y_predict -> 모델이 학습한 결과를 바탕으로 예측한 값\n",
        "#      정답(y) - y_prediction(예측) = loss(오차, error)\n",
        "#      정답과 예측한 값을 빼는 값 = 오차, 오류, error\n",
        "#      이 오차를 단순히 더해버리면 양수 + 음수 = 0가 됨. 따라서 절대값을 씌우거나 제곱을 시켜서 오차값 관리를 해야함\n",
        "#      그것이 loss = 'sparse_categoricla_crossentropy' -> 로그함수\n",
        "\n",
        "# optimizer = 'adam'\n",
        "#      6만장을 한 번에 다 던져주면 애가 토하고... 난리남.\n",
        "#      그래서 처음에 10장 -> 20장 -> 30장 으로 늘려서 천천히 학습 시키기"
      ],
      "metadata": {
        "id": "rVLuXmZv7IUY"
      },
      "execution_count": null,
      "outputs": []
    },
    {
      "cell_type": "code",
      "source": [
        "# 모델 학습\n",
        "# fit <- 딱 들어맞는\n",
        "\n",
        "model.fit(x_train_scaled, y_train, epochs=5) # 문제집을 5번 반복해서 풀 것이다!!"
      ],
      "metadata": {
        "colab": {
          "base_uri": "https://localhost:8080/"
        },
        "id": "G3PZMjBd9J99",
        "outputId": "e490ad69-0780-4a6e-cc55-be5290b6c1b5"
      },
      "execution_count": null,
      "outputs": [
        {
          "output_type": "stream",
          "name": "stdout",
          "text": [
            "Epoch 1/5\n",
            "1875/1875 [==============================] - 9s 2ms/step - loss: 0.6001 - accuracy: 0.7972\n",
            "Epoch 2/5\n",
            "1875/1875 [==============================] - 5s 3ms/step - loss: 0.4619 - accuracy: 0.8420\n",
            "Epoch 3/5\n",
            "1875/1875 [==============================] - 4s 2ms/step - loss: 0.4353 - accuracy: 0.8505\n",
            "Epoch 4/5\n",
            "1875/1875 [==============================] - 4s 2ms/step - loss: 0.4231 - accuracy: 0.8540\n",
            "Epoch 5/5\n",
            "1875/1875 [==============================] - 6s 3ms/step - loss: 0.4127 - accuracy: 0.8583\n"
          ]
        },
        {
          "output_type": "execute_result",
          "data": {
            "text/plain": [
              "<keras.callbacks.History at 0x7b6802a14910>"
            ]
          },
          "metadata": {},
          "execution_count": 39
        }
      ]
    },
    {
      "cell_type": "markdown",
      "source": [
        "loss -> 작으면 작을수록 좋은 오차 범위\n",
        "\n",
        "점점 줄어드는 것을 볼 수 있다.\n",
        "\n",
        "accuracy -> 정확도. 높으면 높을 수록 좋다.\n",
        "\n",
        "점점 커지는 것을 볼 수 있다."
      ],
      "metadata": {
        "id": "jscJ9l3r-Ncn"
      }
    },
    {
      "cell_type": "code",
      "source": [
        "# 평가\n",
        "x_test_scaled = x_test / 255.0  # 모델에 학습시키는 데이터를 정규화를 해놨기 때문에 test 데이터도 정규화를 시켜줘야 함\n",
        "x_test_scaled = x_test_scaled.reshape(10000, 784)  # 이미지니까 1차원 Vector로 또 만들어줘야 함  # 2D -> 1D 모양 변경"
      ],
      "metadata": {
        "id": "qai4mXM7-sDL"
      },
      "execution_count": null,
      "outputs": []
    },
    {
      "cell_type": "code",
      "source": [
        "testoutput = model.evaluate(x_test_scaled, y_test)"
      ],
      "metadata": {
        "colab": {
          "base_uri": "https://localhost:8080/"
        },
        "id": "VfzmEN0j_zcz",
        "outputId": "d5b60961-d674-405e-8c22-d89f2c5245d9"
      },
      "execution_count": null,
      "outputs": [
        {
          "output_type": "stream",
          "name": "stdout",
          "text": [
            "313/313 [==============================] - 1s 2ms/step - loss: 0.4466 - accuracy: 0.8443\n"
          ]
        }
      ]
    },
    {
      "cell_type": "code",
      "source": [
        "print(type(testoutput))\n",
        "print(testoutput)  # loss와 accyracy의 값이 반환됨을 확인\n",
        "\n",
        "print('테스트 데이터의 손실:', testoutput[0])\n",
        "print('테스트 데이터의 정확도: %.3f' % (testoutput[1] * 100))"
      ],
      "metadata": {
        "colab": {
          "base_uri": "https://localhost:8080/"
        },
        "id": "eEQyAgrm_6Vj",
        "outputId": "e24c79fb-df17-459f-8f00-889a9a6dd615"
      },
      "execution_count": null,
      "outputs": [
        {
          "output_type": "stream",
          "name": "stdout",
          "text": [
            "<class 'list'>\n",
            "[0.44655704498291016, 0.8442999720573425]\n",
            "테스트 데이터의 손실: 0.44655704498291016\n",
            "테스트 데이터의 정확도: 84.430\n"
          ]
        }
      ]
    }
  ]
}