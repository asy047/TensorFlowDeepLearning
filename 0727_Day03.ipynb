{
  "nbformat": 4,
  "nbformat_minor": 0,
  "metadata": {
    "colab": {
      "provenance": [],
      "toc_visible": true,
      "gpuType": "T4",
      "authorship_tag": "ABX9TyNtpn229yqMSpjC5utMpgi+",
      "include_colab_link": true
    },
    "kernelspec": {
      "name": "python3",
      "display_name": "Python 3"
    },
    "language_info": {
      "name": "python"
    },
    "accelerator": "GPU"
  },
  "cells": [
    {
      "cell_type": "markdown",
      "metadata": {
        "id": "view-in-github",
        "colab_type": "text"
      },
      "source": [
        "<a href=\"https://colab.research.google.com/github/asy047/TensorFlowDeepLearning/blob/master/0727_Day03.ipynb\" target=\"_parent\"><img src=\"https://colab.research.google.com/assets/colab-badge.svg\" alt=\"Open In Colab\"/></a>"
      ]
    },
    {
      "cell_type": "markdown",
      "source": [
        "# **01. 합성곱 신경망의 구성 요소**\n",
        "\n",
        "* ANN: 최초 인공신경망\n",
        "* DNN: 은닉층이 깊은 인공신경망\n",
        "\n",
        "=> 이 둘의 최고 단점은 Flatten으로 2D를 1D로 바꿔서 넣어줘야한다는 것.\n",
        "\n",
        "  이 행위를 하면 문제점이 있음.\n",
        "  우리가 대상을 보고 판단을 내릴때, 구분하는 과정을 잘 생각해보면 됨.\n",
        "\n",
        "  우리는 기학적으로 보고 분석하지만 이렇게 넣으면 그냥 단순 비교 밖에 되지 못 함.\n",
        "\n",
        "* CNN: 이미지, 동영상\n",
        "* RNN: 텍스트, 음성, 날씨. 시간 순으로 데이터들이 쭉 나열되어 있는 것\n",
        "\n",
        "## 따라서 합성곱을 사용한다.\n",
        "\n",
        "1. 각각 여러개의 가중치 w1, w2, w3 ... + b로 해서 하나의 출력을 내는 것이 아니라,\n",
        "\n",
        "2. 같은 가중치 (도장의 사이즈 예를 들어 3개라면) w1~w3의 가중치로 일괄 적용 한 뒤 + b\n",
        "\n",
        "3. 이렇게 해서 여러개의 출력을 낸다.\n",
        "\n",
        "4. 이때 도장의 사이즈, 측 합성곱 층의 뉴런에 있느 가중치의 개수는 <= **하이퍼 파라미터, 사람이 정하기 나름**\n",
        "\n",
        "이런 도장을 필터(커널)이라고 한다.\n",
        "\n",
        "이런 합성곱 신경망으로 전달하는 것을 CNN(Convolution Nueral Network)\n",
        "\n",
        "\n",
        "### 이를 이차원 배열로 필터를 생성\n",
        "그리고 옮겨가면서 합성곱을 만들어 냄.\n",
        "\n",
        "결국 겹치는 합집합의 출력이라고 생각하면 됨. => 4 x 4가 결국엔 줄어든 2 x 2 맵이 됨 => 이를 **특성맵**이라고 한다.\n",
        "\n",
        "\n",
        "## 도장이 여러개, 필터(커널)이 여러개로 해서 사용하게 된다.\n",
        "\n",
        "* 도장의 개수는 하이퍼 파라미터.\n",
        "* 도장이 세개이면 (2, 2, 3)의 3차원 배열이 완성된다.\n",
        "* 각 필터에 따라, 특성이 담겨져 있는 합성곱 특성 맵이 나게 된다.\n",
        "\n",
        "\n",
        "# 궁극적으로 쓰는 이유\n",
        "\n",
        "* 사진, 2차원 데이터를 1차원으로 하지 않고 기하학적인 요소를 그대로 남겨둔 채 처리할 수 있다.\n",
        "* 요즘엔 CNN 기술 말고 transformer를 쓰고 있다~"
      ],
      "metadata": {
        "id": "Ac9t3x7h-axS"
      }
    },
    {
      "cell_type": "markdown",
      "source": [
        "## 완전 연결 신경망 (Full-Connected Layer (=FC Layer)) - 이론적 용어\n",
        "- 앞서 우리가 만들었던 신경망\n",
        "- 모든 뉴런들이 다 선으로 연결되어 있으니까 Full Connected Layer"
      ],
      "metadata": {
        "id": "U5nLldlUCWhm"
      }
    },
    {
      "cell_type": "code",
      "execution_count": null,
      "metadata": {
        "id": "38IEENxf-ZAt",
        "colab": {
          "base_uri": "https://localhost:8080/"
        },
        "outputId": "41a7afa7-750b-4bea-f118-a128a5f9580a"
      },
      "outputs": [
        {
          "output_type": "execute_result",
          "data": {
            "text/plain": [
              "<keras.layers.convolutional.conv2d.Conv2D at 0x7bc29310bee0>"
            ]
          },
          "metadata": {},
          "execution_count": 1
        }
      ],
      "source": [
        "from tensorflow import keras\n",
        "\n",
        "keras.layers.Conv2D(10, kernel_size=(3, 3), activation='relu')  # 앞으로 Dense 대신에 Conv2D"
      ]
    },
    {
      "cell_type": "markdown",
      "source": [
        "# Keras Padding\n",
        "\n",
        "* Valid Padding -> 기본값\n",
        "* padding을 쓰는 이유는 가운데 값은 계속 찍히는데 가장자리에 있는 것들은 한 번 밖에 안 찍혀서 불공정 함.\n",
        "* 글서 가장자리에 값을 두르거나 0을 둘러서 그 차이를 줄이려 도모함.\n",
        "\n",
        "\n",
        "# Stride (보폭)\n",
        "\n",
        "* 지금까지 본 합성곱은 연산은 좌우상하 한 칸씩, but, 두 칸씩 건너뛸 수도 있음.\n",
        "* 이렇게 두 칸씩 이동하면 만들어지는 특성 맵의 크기는 더 작아지겠죠?\n",
        "\n",
        "# Pooling\n",
        "\n",
        "stride = 2, 보통 왠만해서는 (2, 2) stride = 2로 쓰면 됨\n",
        "* 풀링도 합성곱처럼 입력 위를 지나가면서 도장을 찍음\n",
        "* 풀링은 가중치가 없고 그냥 찍은 영역에 가장 큰 값을 고르거나 평균값을 계산\n",
        "* 최대 풀링(Max Pooling)과 평균 풀링(Average Pooling)이라고 부름.\n",
        "* 사진을 그림 화풍으로 전환하는 style trnasfer에서 많이 씀."
      ],
      "metadata": {
        "id": "rIb8odfuOUQe"
      }
    },
    {
      "cell_type": "markdown",
      "source": [
        "# 합성곱 신경망의 전체 구조\n",
        "\n",
        "1. 합성곱층 (세임 패딩)\n",
        "2. 풀링층\n",
        "3. **밀집층**\n",
        "  \n",
        "  결국에 Flatten과 Dense로 종결을 시켜서 출력을 해줘야 함.\n",
        "\n",
        "\n",
        "## 컬러 이미지를 사용한 합성곱\n",
        "\n",
        "* RGB를 3차원으로 계산을 함. (R, G, B)를 하나씩 z축으로 생각해 3차원 배열이라고 생각하면 됨.\n",
        "\n",
        "* 컬러 사진을 다룰때는 3D 필터가 필요함."
      ],
      "metadata": {
        "id": "CfUAlNPdRfp4"
      }
    },
    {
      "cell_type": "code",
      "source": [
        "# 스트라이드"
      ],
      "metadata": {
        "id": "3Eg4kL5gOS2I"
      },
      "execution_count": null,
      "outputs": []
    }
  ]
}