{
  "nbformat": 4,
  "nbformat_minor": 0,
  "metadata": {
    "colab": {
      "provenance": [],
      "authorship_tag": "ABX9TyPNLPHNDxwzotjmMfoKqbQs",
      "include_colab_link": true
    },
    "kernelspec": {
      "name": "python3",
      "display_name": "Python 3"
    },
    "language_info": {
      "name": "python"
    }
  },
  "cells": [
    {
      "cell_type": "markdown",
      "metadata": {
        "id": "view-in-github",
        "colab_type": "text"
      },
      "source": [
        "<a href=\"https://colab.research.google.com/github/asy047/TensorFlowDeepLearning/blob/master/0726_Day02_2.ipynb\" target=\"_parent\"><img src=\"https://colab.research.google.com/assets/colab-badge.svg\" alt=\"Open In Colab\"/></a>"
      ]
    },
    {
      "cell_type": "markdown",
      "source": [
        "# 손실 곡선\n",
        "\n",
        "***이 녀석이 과연 학습을 제대로 하고 있나 .. ?***\n",
        "\n",
        "1. 확인하기 위해 손실과 epochs를 시각화하는 방법.\n",
        "2. train_test_split -> (x_val, y_val) <= 만들어 놓고 써먹지 않았었는데, 이 검증용 데이터를 활용하는 방법에 대해 설명할 예정.\n",
        "3. 제프리 힌턴 교수님이 딥러닝의 성공을 위해 세가지 업적, 그 중의 하나가 드롭아웃 기법. (딥러닝 모델이 잘 학습할 수 있도록 만듦)\n",
        "\n",
        "  => 과대적합 문제 해결\n",
        "4. 모델을 저장하고 복원하는 방법 (배포)\n",
        "\n"
      ],
      "metadata": {
        "id": "3GHGhE_IEGvE"
      }
    },
    {
      "cell_type": "code",
      "execution_count": null,
      "metadata": {
        "id": "Nu3IBf0VEACc"
      },
      "outputs": [],
      "source": [
        "# fit 객체는 History 객체를 반환함 사실.\n",
        "# 이를 여러가지로 활용할 수 있음."
      ]
    },
    {
      "cell_type": "code",
      "source": [
        "from tensorflow import keras\n",
        "from sklearn.model_selection import train_test_split\n",
        "\n",
        "(x_train, y_train), (x_test, y_test) = keras.datasets.fashion_mnist.load_data()\n",
        "\n",
        "# 정규화\n",
        "x_train_scaled = x_train / 255.0\n",
        "x_test_scaled = x_test / 255.0\n",
        "\n",
        "x_train_scaled, x_val_scaled, y_train, y_val = train_test_split(x_train_scaled, y_train, test_size = 0.2, random_state = 42)"
      ],
      "metadata": {
        "colab": {
          "base_uri": "https://localhost:8080/"
        },
        "id": "SYEsVOF2Ehxq",
        "outputId": "1a4c955c-bd7b-43d9-8d90-c3d0eb645072"
      },
      "execution_count": 1,
      "outputs": [
        {
          "output_type": "stream",
          "name": "stdout",
          "text": [
            "Downloading data from https://storage.googleapis.com/tensorflow/tf-keras-datasets/train-labels-idx1-ubyte.gz\n",
            "29515/29515 [==============================] - 0s 0us/step\n",
            "Downloading data from https://storage.googleapis.com/tensorflow/tf-keras-datasets/train-images-idx3-ubyte.gz\n",
            "26421880/26421880 [==============================] - 0s 0us/step\n",
            "Downloading data from https://storage.googleapis.com/tensorflow/tf-keras-datasets/t10k-labels-idx1-ubyte.gz\n",
            "5148/5148 [==============================] - 0s 0us/step\n",
            "Downloading data from https://storage.googleapis.com/tensorflow/tf-keras-datasets/t10k-images-idx3-ubyte.gz\n",
            "4422102/4422102 [==============================] - 0s 0us/step\n"
          ]
        }
      ]
    },
    {
      "cell_type": "code",
      "source": [
        "# 모델 만드는 함수\n",
        "def model_make(a_layer=None):  # 또 층을 추가하고 싶으면 이 model_make를 호출해서 생성할 수 있음\n",
        "  model = keras.Sequential()\n",
        "  model.add(keras.layers.Flatten(input_shape=(28, 28)))   # 2D -> 1D\n",
        "  model.add(keras.layers.Dense(100, activation='relu'))\n",
        "\n",
        "  if a_layer:  # model_make 함수에 입력값이 있다면 아래를 실행\n",
        "    model.add(a_layer)\n",
        "\n",
        "  model.add(keras.layers.Dense(10, activation='softmax')) # 출력층 생성, 패션 아이템은 10종류이기 때문에 10 입력\n",
        "  return model"
      ],
      "metadata": {
        "id": "gQfZE2qHFEuq"
      },
      "execution_count": 2,
      "outputs": []
    },
    {
      "cell_type": "code",
      "source": [
        "model = model_make()\n",
        "model.summary()"
      ],
      "metadata": {
        "colab": {
          "base_uri": "https://localhost:8080/"
        },
        "id": "foKsFzbfGHXX",
        "outputId": "4272a1ff-cd59-4ca7-b07e-70a5bf90b9d8"
      },
      "execution_count": 3,
      "outputs": [
        {
          "output_type": "stream",
          "name": "stdout",
          "text": [
            "Model: \"sequential\"\n",
            "_________________________________________________________________\n",
            " Layer (type)                Output Shape              Param #   \n",
            "=================================================================\n",
            " flatten (Flatten)           (None, 784)               0         \n",
            "                                                                 \n",
            " dense (Dense)               (None, 100)               78500     \n",
            "                                                                 \n",
            " dense_1 (Dense)             (None, 10)                1010      \n",
            "                                                                 \n",
            "=================================================================\n",
            "Total params: 79,510\n",
            "Trainable params: 79,510\n",
            "Non-trainable params: 0\n",
            "_________________________________________________________________\n"
          ]
        }
      ]
    },
    {
      "cell_type": "code",
      "source": [
        "from keras.engine.training import optimizer\n",
        "\n",
        "model.compile(loss='sparse_categorical_crossentropy', optimizer='adam', metrics=['accuracy'])"
      ],
      "metadata": {
        "id": "g2XLJYXpH9T_"
      },
      "execution_count": 5,
      "outputs": []
    },
    {
      "cell_type": "code",
      "source": [
        "h = model.fit(x_train_scaled, y_train, epochs=5, verbose=2)  # 하나하나 학습되는걸 실시간 print하지만 이걸 조절하는 파라미터 verbose=[0/1/2]\n",
        "# 0으로 하면 status가 안 뜸\n",
        "# 1 기본값\n",
        "# 2 Epoch 출력, Status Bar 출력 안 됨."
      ],
      "metadata": {
        "colab": {
          "base_uri": "https://localhost:8080/"
        },
        "id": "FvZ9D70NIDBe",
        "outputId": "114408d9-c40b-4260-cba2-dcad821de43f"
      },
      "execution_count": 8,
      "outputs": [
        {
          "output_type": "stream",
          "name": "stdout",
          "text": [
            "Epoch 1/5\n",
            "1500/1500 - 4s - loss: 0.2416 - accuracy: 0.9088 - 4s/epoch - 3ms/step\n",
            "Epoch 2/5\n",
            "1500/1500 - 6s - loss: 0.2327 - accuracy: 0.9134 - 6s/epoch - 4ms/step\n",
            "Epoch 3/5\n",
            "1500/1500 - 4s - loss: 0.2272 - accuracy: 0.9148 - 4s/epoch - 3ms/step\n",
            "Epoch 4/5\n",
            "1500/1500 - 4s - loss: 0.2203 - accuracy: 0.9185 - 4s/epoch - 3ms/step\n",
            "Epoch 5/5\n",
            "1500/1500 - 8s - loss: 0.2148 - accuracy: 0.9189 - 8s/epoch - 5ms/step\n"
          ]
        }
      ]
    },
    {
      "cell_type": "code",
      "source": [
        "print(type(h))\n",
        "print(h)\n",
        "\n",
        "print(h.history) # loss와 accuracy 값이 Dictionary 형태로 저장되어 있음.\n",
        "print(h.history.keys())"
      ],
      "metadata": {
        "colab": {
          "base_uri": "https://localhost:8080/"
        },
        "id": "iYMASFYxJwt5",
        "outputId": "95a0256d-33da-40da-9f04-bb4d72f6e25b"
      },
      "execution_count": 14,
      "outputs": [
        {
          "output_type": "stream",
          "name": "stdout",
          "text": [
            "<class 'keras.callbacks.History'>\n",
            "<keras.callbacks.History object at 0x77fbd4e45db0>\n",
            "{'loss': [0.24163584411144257, 0.23267702758312225, 0.22716334462165833, 0.2203206717967987, 0.21479792892932892], 'accuracy': [0.9087916612625122, 0.9134374856948853, 0.9147916436195374, 0.9185208082199097, 0.918874979019165]}\n",
            "dict_keys(['loss', 'accuracy'])\n"
          ]
        }
      ]
    },
    {
      "cell_type": "code",
      "source": [
        "loss_history = h.history['loss']\n",
        "\n",
        "import matplotlib.pyplot as plt\n",
        "\n",
        "plt.figure()\n",
        "plt.plot(loss_history, '--^', c='pink')\n",
        "plt.xlabel('epoch')\n",
        "plt.ylabel('loss')\n",
        "plt.grid(True)\n",
        "plt.show()\n",
        "# loss 값 감소 확인"
      ],
      "metadata": {
        "colab": {
          "base_uri": "https://localhost:8080/",
          "height": 449
        },
        "id": "j7ZcwGZyKR3d",
        "outputId": "74342bf0-5a83-422f-b411-058a16ad9801"
      },
      "execution_count": 22,
      "outputs": [
        {
          "output_type": "display_data",
          "data": {
            "text/plain": [
              "<Figure size 640x480 with 1 Axes>"
            ],
            "image/png": "[encoded data removed]"
          },
          "metadata": {}
        }
      ]
    },
    {
      "cell_type": "code",
      "source": [
        "acc_history = h.history['accuracy']\n",
        "\n",
        "import matplotlib.pyplot as plt\n",
        "\n",
        "plt.figure()\n",
        "plt.plot(acc_history, '--^', c='pink')\n",
        "plt.xlabel('epoch')\n",
        "plt.ylabel('accuracy')\n",
        "plt.grid(True)\n",
        "plt.show()\n",
        "# accuracy 값 상승 확인"
      ],
      "metadata": {
        "colab": {
          "base_uri": "https://localhost:8080/",
          "height": 449
        },
        "id": "4mlLZS_hLuNH",
        "outputId": "07eac47c-2bd1-464f-8fb3-5b880c11da5f"
      },
      "execution_count": 24,
      "outputs": [
        {
          "output_type": "display_data",
          "data": {
            "text/plain": [
              "<Figure size 640x480 with 1 Axes>"
            ],
            "image/png": "[encoded data removed]"
          },
          "metadata": {}
        }
      ]
    },
    {
      "cell_type": "code",
      "source": [
        "model.evaluate(x_test_scaled, y_test)"
      ],
      "metadata": {
        "colab": {
          "base_uri": "https://localhost:8080/"
        },
        "id": "J-Q6iVVuID76",
        "outputId": "9e798fc6-9332-4ae6-8634-75f2b673a766"
      },
      "execution_count": 19,
      "outputs": [
        {
          "output_type": "stream",
          "name": "stdout",
          "text": [
            "313/313 [==============================] - 2s 5ms/step - loss: 0.3657 - accuracy: 0.8777\n"
          ]
        },
        {
          "output_type": "execute_result",
          "data": {
            "text/plain": [
              "[0.36568114161491394, 0.8776999711990356]"
            ]
          },
          "metadata": {},
          "execution_count": 19
        }
      ]
    }
  ]
}